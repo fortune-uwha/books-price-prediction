{
  "nbformat": 4,
  "nbformat_minor": 5,
  "metadata": {
    "kernelspec": {
      "name": "python3",
      "display_name": "Python 3.7.3 64-bit ('env': venv)"
    },
    "language_info": {
      "codemirror_mode": {
        "name": "ipython",
        "version": 3
      },
      "file_extension": ".py",
      "mimetype": "text/x-python",
      "name": "python",
      "nbconvert_exporter": "python",
      "pygments_lexer": "ipython3",
      "version": "3.7.3"
    },
    "colab": {
      "name": "Predict_book_price_model_training_notebook.ipynb",
      "provenance": []
    },
    "interpreter": {
      "hash": "2861fd1376cd60a92d8439376456ea149196581631db637429fda0da36cbbcaa"
    }
  },
  "cells": [
    {
      "cell_type": "markdown",
      "source": [
        "## Book Price Prediction 📚"
      ],
      "metadata": {
        "id": "amended-ratio"
      }
    },
    {
      "cell_type": "markdown",
      "source": [
        "### Introduction( Problem Definition)"
      ],
      "metadata": {
        "id": "gentle-spider"
      }
    },
    {
      "cell_type": "markdown",
      "source": [
        "Books are the most important friends in one’s life. Books are open doors to the unimagined worlds which is unique to every person. It is more than just a hobby for many. There are many among us who prefer to spend more time with books than anything else. \r\n",
        "\r\n",
        "Here we explore a big database of books. Books of different genres, from thousands of authors. In this project, we will use the dataset to build a Machine Learning model to predict the price of books based on a given set of features.\r\n",
        "\r\n",
        "\r\n",
        "FEATURES:\r\n",
        "\r\n",
        "* Title: The title of the book\r\n",
        "* Author: The author(s) of the book.\r\n",
        "* Edition: The edition of the book eg (Paperback\r\n",
        "* Item url: A link to the book on bookdepository.com\r\n",
        "* Image url: A link to the book's image\r\n",
        "* Publish date: The date of release eg(26 Apr 2018)\r\n",
        "* BookCategory: The department the book is usually available at.\r\n",
        "* Price: The price of the book (Target variable)\r\n",
        "\r\n",
        "### Approach\r\n",
        "\r\n",
        "1. Problem definition\r\n",
        "2. Creating a dataset for the future model\r\n",
        "3. Exploring The Data Sets, Cleaning, Processing \r\n",
        "4. Selection of algorithm(Building A Regressor)\r\n",
        "5. Evaluating the trained model\r\n",
        "6. Deploying the model"
      ],
      "metadata": {
        "id": "statewide-aside"
      }
    },
    {
      "cell_type": "code",
      "execution_count": 1,
      "source": [
        "import numpy as np\r\n",
        "import pandas as pd\r\n",
        "\r\n",
        "from sklearn.model_selection import train_test_split\r\n",
        "from sklearn.ensemble import RandomForestRegressor\r\n",
        "from sklearn.preprocessing import OneHotEncoder\r\n",
        "from sklearn.metrics import mean_squared_log_error\r\n",
        "from sklearn.pipeline import Pipeline\r\n",
        "from sklearn.metrics import mean_squared_error\r\n",
        "from sklearn.compose import ColumnTransformer\r\n",
        "\r\n",
        "import warnings\r\n",
        "warnings.filterwarnings('ignore')"
      ],
      "outputs": [],
      "metadata": {
        "id": "seventh-midwest"
      }
    },
    {
      "cell_type": "markdown",
      "source": [
        "### Creating dataset for feature model"
      ],
      "metadata": {
        "id": "impaired-worst"
      }
    },
    {
      "cell_type": "code",
      "execution_count": 2,
      "source": [
        "!pip install git+https://github.com/fortune-uwha/book_scraper"
      ],
      "outputs": [
        {
          "output_type": "stream",
          "name": "stdout",
          "text": [
            "Collecting git+https://github.com/fortune-uwha/book_scraper\n",
            "  Cloning https://github.com/fortune-uwha/book_scraper to /tmp/pip-req-build-cwtvcdq2\n",
            "  Running command git clone -q https://github.com/fortune-uwha/book_scraper /tmp/pip-req-build-cwtvcdq2\n",
            "Requirement already satisfied: atomicwrites==1.4.0 in /usr/local/lib/python3.7/dist-packages (from books-scraper==0.0.1) (1.4.0)\n",
            "Collecting beautifulsoup4==4.9.3\n",
            "  Downloading beautifulsoup4-4.9.3-py3-none-any.whl (115 kB)\n",
            "\u001b[K     |████████████████████████████████| 115 kB 5.1 MB/s \n",
            "\u001b[?25hCollecting black==19.10b0\n",
            "  Downloading black-19.10b0-py36-none-any.whl (97 kB)\n",
            "\u001b[K     |████████████████████████████████| 97 kB 6.0 MB/s \n",
            "\u001b[?25hRequirement already satisfied: certifi==2021.5.30 in /usr/local/lib/python3.7/dist-packages (from books-scraper==0.0.1) (2021.5.30)\n",
            "Collecting chardet==4.0.0\n",
            "  Downloading chardet-4.0.0-py2.py3-none-any.whl (178 kB)\n",
            "\u001b[K     |████████████████████████████████| 178 kB 52.7 MB/s \n",
            "\u001b[?25hRequirement already satisfied: idna==2.10 in /usr/local/lib/python3.7/dist-packages (from books-scraper==0.0.1) (2.10)\n",
            "Collecting numpy==1.21.1\n",
            "  Downloading numpy-1.21.1-cp37-cp37m-manylinux_2_12_x86_64.manylinux2010_x86_64.whl (15.7 MB)\n",
            "\u001b[K     |████████████████████████████████| 15.7 MB 75 kB/s \n",
            "\u001b[?25hCollecting pandas==1.3.1\n",
            "  Downloading pandas-1.3.1-cp37-cp37m-manylinux_2_17_x86_64.manylinux2014_x86_64.whl (11.5 MB)\n",
            "\u001b[K     |████████████████████████████████| 11.5 MB 17.5 MB/s \n",
            "\u001b[?25hCollecting psycopg2==2.9.1\n",
            "  Downloading psycopg2-2.9.1.tar.gz (379 kB)\n",
            "\u001b[K     |████████████████████████████████| 379 kB 41.4 MB/s \n",
            "\u001b[?25hCollecting python-dateutil==2.8.1\n",
            "  Downloading python_dateutil-2.8.1-py2.py3-none-any.whl (227 kB)\n",
            "\u001b[K     |████████████████████████████████| 227 kB 62.1 MB/s \n",
            "\u001b[?25hCollecting pytz==2021.1\n",
            "  Downloading pytz-2021.1-py2.py3-none-any.whl (510 kB)\n",
            "\u001b[K     |████████████████████████████████| 510 kB 70.0 MB/s \n",
            "\u001b[?25hCollecting requests==2.25.1\n",
            "  Downloading requests-2.25.1-py2.py3-none-any.whl (61 kB)\n",
            "\u001b[K     |████████████████████████████████| 61 kB 7.3 MB/s \n",
            "\u001b[?25hCollecting soupsieve==2.2.1\n",
            "  Downloading soupsieve-2.2.1-py3-none-any.whl (33 kB)\n",
            "Collecting urllib3==1.26.6\n",
            "  Downloading urllib3-1.26.6-py2.py3-none-any.whl (138 kB)\n",
            "\u001b[K     |████████████████████████████████| 138 kB 64.8 MB/s \n",
            "\u001b[?25hRequirement already satisfied: appdirs in /usr/local/lib/python3.7/dist-packages (from black==19.10b0->books-scraper==0.0.1) (1.4.4)\n",
            "Requirement already satisfied: click>=6.5 in /usr/local/lib/python3.7/dist-packages (from black==19.10b0->books-scraper==0.0.1) (7.1.2)\n",
            "Requirement already satisfied: attrs>=18.1.0 in /usr/local/lib/python3.7/dist-packages (from black==19.10b0->books-scraper==0.0.1) (21.2.0)\n",
            "Requirement already satisfied: regex in /usr/local/lib/python3.7/dist-packages (from black==19.10b0->books-scraper==0.0.1) (2019.12.20)\n",
            "Collecting pathspec<1,>=0.6\n",
            "  Downloading pathspec-0.9.0-py2.py3-none-any.whl (31 kB)\n",
            "Requirement already satisfied: toml>=0.9.4 in /usr/local/lib/python3.7/dist-packages (from black==19.10b0->books-scraper==0.0.1) (0.10.2)\n",
            "Collecting typed-ast>=1.4.0\n",
            "  Downloading typed_ast-1.4.3-cp37-cp37m-manylinux1_x86_64.whl (743 kB)\n",
            "\u001b[K     |████████████████████████████████| 743 kB 59.0 MB/s \n",
            "\u001b[?25hRequirement already satisfied: six>=1.5 in /usr/local/lib/python3.7/dist-packages (from python-dateutil==2.8.1->books-scraper==0.0.1) (1.15.0)\n",
            "Building wheels for collected packages: books-scraper, psycopg2\n",
            "  Building wheel for books-scraper (setup.py) ... \u001b[?25l\u001b[?25hdone\n",
            "  Created wheel for books-scraper: filename=books_scraper-0.0.1-py3-none-any.whl size=8347 sha256=e1fbb25eecd8a6cb9afb8cd0326466475e6aa942ee17b220ed98ae5e2f16a16f\n",
            "  Stored in directory: /tmp/pip-ephem-wheel-cache-1476q_cx/wheels/04/1b/b0/f9d77feb6c74100f5f715a81cb99ccf2791fcb09cf1524bee2\n",
            "  Building wheel for psycopg2 (setup.py) ... \u001b[?25l\u001b[?25hdone\n",
            "  Created wheel for psycopg2: filename=psycopg2-2.9.1-cp37-cp37m-linux_x86_64.whl size=471166 sha256=7ab184c6b7e7a2857a6393065c9792931a1dd83f833761a576dacc53515ea56b\n",
            "  Stored in directory: /root/.cache/pip/wheels/07/32/f0/dee9fe112d2b8d7777955f2cbf428eadcf75bff3535a9dff6a\n",
            "Successfully built books-scraper psycopg2\n",
            "Installing collected packages: urllib3, typed-ast, soupsieve, pytz, python-dateutil, pathspec, numpy, chardet, requests, psycopg2, pandas, black, beautifulsoup4, books-scraper\n",
            "  Attempting uninstall: urllib3\n",
            "    Found existing installation: urllib3 1.24.3\n",
            "    Uninstalling urllib3-1.24.3:\n",
            "      Successfully uninstalled urllib3-1.24.3\n",
            "  Attempting uninstall: pytz\n",
            "    Found existing installation: pytz 2018.9\n",
            "    Uninstalling pytz-2018.9:\n",
            "      Successfully uninstalled pytz-2018.9\n",
            "  Attempting uninstall: python-dateutil\n",
            "    Found existing installation: python-dateutil 2.8.2\n",
            "    Uninstalling python-dateutil-2.8.2:\n",
            "      Successfully uninstalled python-dateutil-2.8.2\n",
            "  Attempting uninstall: numpy\n",
            "    Found existing installation: numpy 1.19.5\n",
            "    Uninstalling numpy-1.19.5:\n",
            "      Successfully uninstalled numpy-1.19.5\n",
            "  Attempting uninstall: chardet\n",
            "    Found existing installation: chardet 3.0.4\n",
            "    Uninstalling chardet-3.0.4:\n",
            "      Successfully uninstalled chardet-3.0.4\n",
            "  Attempting uninstall: requests\n",
            "    Found existing installation: requests 2.23.0\n",
            "    Uninstalling requests-2.23.0:\n",
            "      Successfully uninstalled requests-2.23.0\n",
            "  Attempting uninstall: psycopg2\n",
            "    Found existing installation: psycopg2 2.7.6.1\n",
            "    Uninstalling psycopg2-2.7.6.1:\n",
            "      Successfully uninstalled psycopg2-2.7.6.1\n",
            "  Attempting uninstall: pandas\n",
            "    Found existing installation: pandas 1.1.5\n",
            "    Uninstalling pandas-1.1.5:\n",
            "      Successfully uninstalled pandas-1.1.5\n",
            "  Attempting uninstall: beautifulsoup4\n",
            "    Found existing installation: beautifulsoup4 4.6.3\n",
            "    Uninstalling beautifulsoup4-4.6.3:\n",
            "      Successfully uninstalled beautifulsoup4-4.6.3\n",
            "\u001b[31mERROR: pip's dependency resolver does not currently take into account all the packages that are installed. This behaviour is the source of the following dependency conflicts.\n",
            "tensorflow 2.6.0 requires numpy~=1.19.2, but you have numpy 1.21.1 which is incompatible.\n",
            "google-colab 1.0.0 requires pandas~=1.1.0; python_version >= \"3.0\", but you have pandas 1.3.1 which is incompatible.\n",
            "google-colab 1.0.0 requires requests~=2.23.0, but you have requests 2.25.1 which is incompatible.\n",
            "datascience 0.10.6 requires folium==0.2.1, but you have folium 0.8.3 which is incompatible.\n",
            "albumentations 0.1.12 requires imgaug<0.2.7,>=0.2.5, but you have imgaug 0.2.9 which is incompatible.\u001b[0m\n",
            "Successfully installed beautifulsoup4-4.9.3 black-19.10b0 books-scraper-0.0.1 chardet-4.0.0 numpy-1.21.1 pandas-1.3.1 pathspec-0.9.0 psycopg2-2.9.1 python-dateutil-2.8.1 pytz-2021.1 requests-2.25.1 soupsieve-2.2.1 typed-ast-1.4.3 urllib3-1.26.6\n"
          ]
        },
        {
          "output_type": "display_data",
          "data": {
            "application/vnd.colab-display-data+json": {
              "pip_warning": {
                "packages": [
                  "dateutil",
                  "numpy",
                  "pandas",
                  "pytz"
                ]
              }
            }
          },
          "metadata": {}
        }
      ],
      "metadata": {
        "colab": {
          "base_uri": "https://localhost:8080/",
          "height": 1000
        },
        "id": "hidden-sapphire",
        "outputId": "56b4e6e4-5089-4c11-869b-82a2ca42fb5c"
      }
    },
    {
      "cell_type": "code",
      "execution_count": 2,
      "source": [
        "from scraper.bookscraper import CleanBookScraper"
      ],
      "outputs": [],
      "metadata": {
        "id": "cross-depression"
      }
    },
    {
      "cell_type": "code",
      "execution_count": 4,
      "source": [
        "categories = ['romance','horror','thriller','health','crime','sports','humour', 'philosophy','medical']\n",
        "examples_to_scrape = 100\n",
        "\n",
        "data_categories = []\n",
        "for category in categories:\n",
        "    scraper = CleanBookScraper(examples_to_scrape, category)\n",
        "    data = scraper.clean_dataframe()\n",
        "    data_categories.append(data)\n",
        "data_categories = pd.concat(data_categories)\n",
        "data_categories.to_csv('books.csv', index=False)"
      ],
      "outputs": [
        {
          "output_type": "stream",
          "name": "stdout",
          "text": [
            ">>>>Now collecting information on romance books for 3 page(s)<<<<\n",
            ">>>>Please be patient this might take a while:)<<<<\n",
            ">>>>Now collecting information on horror books for 3 page(s)<<<<\n",
            ">>>>Please be patient this might take a while:)<<<<\n",
            ">>>>Now collecting information on thriller books for 3 page(s)<<<<\n",
            ">>>>Please be patient this might take a while:)<<<<\n",
            ">>>>Now collecting information on health books for 3 page(s)<<<<\n",
            ">>>>Please be patient this might take a while:)<<<<\n",
            ">>>>Now collecting information on crime books for 3 page(s)<<<<\n",
            ">>>>Please be patient this might take a while:)<<<<\n",
            ">>>>Now collecting information on sports books for 3 page(s)<<<<\n",
            ">>>>Please be patient this might take a while:)<<<<\n",
            ">>>>Now collecting information on humour books for 3 page(s)<<<<\n",
            ">>>>Please be patient this might take a while:)<<<<\n",
            ">>>>Now collecting information on philosophy books for 3 page(s)<<<<\n",
            ">>>>Please be patient this might take a while:)<<<<\n",
            ">>>>Now collecting information on medical books for 3 page(s)<<<<\n",
            ">>>>Please be patient this might take a while:)<<<<\n"
          ]
        }
      ],
      "metadata": {
        "colab": {
          "base_uri": "https://localhost:8080/"
        },
        "id": "Jrg7BRZRZyEM",
        "outputId": "9c65fa06-12fe-4231-95d7-6598841cd823"
      }
    },
    {
      "cell_type": "code",
      "execution_count": 5,
      "source": [
        "## Loading dataset for future model\n",
        "books = pd.read_csv('books.csv')\n",
        "books"
      ],
      "outputs": [
        {
          "output_type": "execute_result",
          "data": {
            "text/plain": [
              "                                                 title  ... released_year\n",
              "0                                   Pride and Pleasure  ...          2013\n",
              "1                                     The Wedding Date  ...          2018\n",
              "2                                       Beaded Romance  ...          2013\n",
              "3                                   Romancing the Beat  ...          2016\n",
              "4                         I, Isaac, Take Thee, Rebekah  ...          2005\n",
              "..                                                 ...  ...           ...\n",
              "802                        Medical Astrology In Action  ...          2019\n",
              "803  Pocket Companion to Guyton and Hall Textbook o...  ...          2015\n",
              "804                Oxford Handbook of Medical Sciences  ...          2011\n",
              "805                         Advanced Medical Intuition  ...          2018\n",
              "806  Oxford Handbook of Obstetrics and Gynaecology ...  ...          2013\n",
              "\n",
              "[807 rows x 9 columns]"
            ],
            "text/html": [
              "<div>\n",
              "<style scoped>\n",
              "    .dataframe tbody tr th:only-of-type {\n",
              "        vertical-align: middle;\n",
              "    }\n",
              "\n",
              "    .dataframe tbody tr th {\n",
              "        vertical-align: top;\n",
              "    }\n",
              "\n",
              "    .dataframe thead th {\n",
              "        text-align: right;\n",
              "    }\n",
              "</style>\n",
              "<table border=\"1\" class=\"dataframe\">\n",
              "  <thead>\n",
              "    <tr style=\"text-align: right;\">\n",
              "      <th></th>\n",
              "      <th>title</th>\n",
              "      <th>author</th>\n",
              "      <th>price</th>\n",
              "      <th>edition</th>\n",
              "      <th>publish_date</th>\n",
              "      <th>item_url</th>\n",
              "      <th>image_url</th>\n",
              "      <th>category</th>\n",
              "      <th>released_year</th>\n",
              "    </tr>\n",
              "  </thead>\n",
              "  <tbody>\n",
              "    <tr>\n",
              "      <th>0</th>\n",
              "      <td>Pride and Pleasure</td>\n",
              "      <td>Sylvia Day</td>\n",
              "      <td>12.69</td>\n",
              "      <td>Paperback</td>\n",
              "      <td>28 Feb 2013</td>\n",
              "      <td>https://www.bookdepository.com/Pride-Pleasure-...</td>\n",
              "      <td>https://d1w7fb2mkkr3kw.cloudfront.net/assets/i...</td>\n",
              "      <td>Romance</td>\n",
              "      <td>2013</td>\n",
              "    </tr>\n",
              "    <tr>\n",
              "      <th>1</th>\n",
              "      <td>The Wedding Date</td>\n",
              "      <td>Jasmine Guillory</td>\n",
              "      <td>13.27</td>\n",
              "      <td>Paperback</td>\n",
              "      <td>30 Jan 2018</td>\n",
              "      <td>https://www.bookdepository.com/Wedding-Date-Ja...</td>\n",
              "      <td>https://d1w7fb2mkkr3kw.cloudfront.net/assets/i...</td>\n",
              "      <td>Romance</td>\n",
              "      <td>2018</td>\n",
              "    </tr>\n",
              "    <tr>\n",
              "      <th>2</th>\n",
              "      <td>Beaded Romance</td>\n",
              "      <td>Kelly Wiese</td>\n",
              "      <td>40.85</td>\n",
              "      <td>Paperback</td>\n",
              "      <td>28 Jun 2013</td>\n",
              "      <td>https://www.bookdepository.com/Beaded-Romance-...</td>\n",
              "      <td>https://d1w7fb2mkkr3kw.cloudfront.net/assets/i...</td>\n",
              "      <td>Romance</td>\n",
              "      <td>2013</td>\n",
              "    </tr>\n",
              "    <tr>\n",
              "      <th>3</th>\n",
              "      <td>Romancing the Beat</td>\n",
              "      <td>Gwen Hayes</td>\n",
              "      <td>12.84</td>\n",
              "      <td>Paperback</td>\n",
              "      <td>02 Apr 2016</td>\n",
              "      <td>https://www.bookdepository.com/Romancing-Beat-...</td>\n",
              "      <td>https://d1w7fb2mkkr3kw.cloudfront.net/assets/i...</td>\n",
              "      <td>Romance</td>\n",
              "      <td>2016</td>\n",
              "    </tr>\n",
              "    <tr>\n",
              "      <th>4</th>\n",
              "      <td>I, Isaac, Take Thee, Rebekah</td>\n",
              "      <td>Ravi Zacharias</td>\n",
              "      <td>14.44</td>\n",
              "      <td>Paperback</td>\n",
              "      <td>03 Apr 2005</td>\n",
              "      <td>https://www.bookdepository.com/I-Isaac-Take-Th...</td>\n",
              "      <td>https://d1w7fb2mkkr3kw.cloudfront.net/assets/i...</td>\n",
              "      <td>Romance</td>\n",
              "      <td>2005</td>\n",
              "    </tr>\n",
              "    <tr>\n",
              "      <th>...</th>\n",
              "      <td>...</td>\n",
              "      <td>...</td>\n",
              "      <td>...</td>\n",
              "      <td>...</td>\n",
              "      <td>...</td>\n",
              "      <td>...</td>\n",
              "      <td>...</td>\n",
              "      <td>...</td>\n",
              "      <td>...</td>\n",
              "    </tr>\n",
              "    <tr>\n",
              "      <th>802</th>\n",
              "      <td>Medical Astrology In Action</td>\n",
              "      <td>Judith A Hill</td>\n",
              "      <td>22.17</td>\n",
              "      <td>Paperback</td>\n",
              "      <td>08 May 2019</td>\n",
              "      <td>https://www.bookdepository.com/Medical-Astrolo...</td>\n",
              "      <td>https://d1w7fb2mkkr3kw.cloudfront.net/assets/i...</td>\n",
              "      <td>Medical</td>\n",
              "      <td>2019</td>\n",
              "    </tr>\n",
              "    <tr>\n",
              "      <th>803</th>\n",
              "      <td>Pocket Companion to Guyton and Hall Textbook o...</td>\n",
              "      <td>John E. Hall</td>\n",
              "      <td>61.39</td>\n",
              "      <td>Paperback</td>\n",
              "      <td>10 Jul 2015</td>\n",
              "      <td>https://www.bookdepository.com/Pocket-Companio...</td>\n",
              "      <td>https://d1w7fb2mkkr3kw.cloudfront.net/assets/i...</td>\n",
              "      <td>Medical</td>\n",
              "      <td>2015</td>\n",
              "    </tr>\n",
              "    <tr>\n",
              "      <th>804</th>\n",
              "      <td>Oxford Handbook of Medical Sciences</td>\n",
              "      <td>Robert Wilkins</td>\n",
              "      <td>10.27</td>\n",
              "      <td>Paperback</td>\n",
              "      <td>14 Nov 2011</td>\n",
              "      <td>https://www.bookdepository.com/Oxford-Handbook...</td>\n",
              "      <td>https://d1w7fb2mkkr3kw.cloudfront.net/assets/i...</td>\n",
              "      <td>Medical</td>\n",
              "      <td>2011</td>\n",
              "    </tr>\n",
              "    <tr>\n",
              "      <th>805</th>\n",
              "      <td>Advanced Medical Intuition</td>\n",
              "      <td>Tina M. Zion</td>\n",
              "      <td>9.88</td>\n",
              "      <td>Paperback</td>\n",
              "      <td>01 Apr 2018</td>\n",
              "      <td>https://www.bookdepository.com/Advanced-Medica...</td>\n",
              "      <td>https://d1w7fb2mkkr3kw.cloudfront.net/assets/i...</td>\n",
              "      <td>Medical</td>\n",
              "      <td>2018</td>\n",
              "    </tr>\n",
              "    <tr>\n",
              "      <th>806</th>\n",
              "      <td>Oxford Handbook of Obstetrics and Gynaecology ...</td>\n",
              "      <td>Sally Collins</td>\n",
              "      <td>20.62</td>\n",
              "      <td>Paperback</td>\n",
              "      <td>25 Jul 2013</td>\n",
              "      <td>https://www.bookdepository.com/Oxford-Handbook...</td>\n",
              "      <td>https://d1w7fb2mkkr3kw.cloudfront.net/assets/i...</td>\n",
              "      <td>Medical</td>\n",
              "      <td>2013</td>\n",
              "    </tr>\n",
              "  </tbody>\n",
              "</table>\n",
              "<p>807 rows × 9 columns</p>\n",
              "</div>"
            ]
          },
          "metadata": {},
          "execution_count": 5
        }
      ],
      "metadata": {
        "colab": {
          "base_uri": "https://localhost:8080/",
          "height": 823
        },
        "id": "alleged-beauty",
        "outputId": "93b17ef0-f25f-4a2e-c66e-e420be0bef44"
      }
    },
    {
      "cell_type": "markdown",
      "source": [
        "### Data preprocessing"
      ],
      "metadata": {
        "id": "m6ye7S8BdvtT"
      }
    },
    {
      "cell_type": "code",
      "execution_count": 6,
      "source": [
        "books['price'] = pd.to_numeric(books['price'], errors='coerce')\n",
        "books = books.dropna(subset=['price'])"
      ],
      "outputs": [],
      "metadata": {
        "id": "ongoing-legislation"
      }
    },
    {
      "cell_type": "code",
      "execution_count": 8,
      "source": [
        "## Dropping Title, Item url, Image url, Publish date\n",
        "books.drop(['item_url','image_url','title', 'publish_date'], axis=1,inplace=True)"
      ],
      "outputs": [],
      "metadata": {
        "id": "right-number"
      }
    },
    {
      "cell_type": "code",
      "execution_count": 12,
      "source": [
        "import matplotlib.pyplot as plt\n",
        "\n",
        "plt.title('Price Comparision with Book Category',size=20)\n",
        "plt.barh(books.category,books.price)\n",
        "plt.show()"
      ],
      "outputs": [
        {
          "output_type": "display_data",
          "data": {
            "text/plain": [
              "<Figure size 432x288 with 1 Axes>"
            ],
            "image/png": "[encoded data removed]"
          },
          "metadata": {
            "needs_background": "light"
          }
        }
      ],
      "metadata": {
        "colab": {
          "base_uri": "https://localhost:8080/",
          "height": 286
        },
        "id": "TBz-Lp6WeN7D",
        "outputId": "d24e067f-8fac-4c27-80e5-1604fe6e76c8"
      }
    },
    {
      "cell_type": "markdown",
      "source": [
        "Turns out the most expensive books come from the sports category"
      ],
      "metadata": {
        "id": "MY0VEmcde9_E"
      }
    },
    {
      "cell_type": "markdown",
      "source": [
        "### Train the model(Build a regressor)"
      ],
      "metadata": {
        "id": "Ybhf-kDoesmH"
      }
    },
    {
      "cell_type": "code",
      "execution_count": 13,
      "source": [
        "target = books['price'].reset_index()\n",
        "target = target.drop([\"index\"], axis=1).astype(float)\n",
        "\n",
        "features = books.drop([\"price\"], axis=1)"
      ],
      "outputs": [],
      "metadata": {
        "id": "spatial-collar"
      }
    },
    {
      "cell_type": "code",
      "execution_count": 14,
      "source": [
        "X_train, X_test, y_train, y_test = train_test_split(\n",
        "    features, target, test_size=0.2, random_state=42\n",
        ")"
      ],
      "outputs": [],
      "metadata": {
        "id": "casual-tomato"
      }
    },
    {
      "cell_type": "markdown",
      "source": [
        "#### Create a pipeline"
      ],
      "metadata": {
        "id": "8PgjbU8AfHBX"
      }
    },
    {
      "cell_type": "code",
      "execution_count": 15,
      "source": [
        "features_to_encode = [\"author\", \"edition\", \"category\"]\n",
        "preprocessor = ColumnTransformer([('encoder', OneHotEncoder(handle_unknown=\"ignore\"),features_to_encode)], remainder='passthrough')\n",
        "preprocessor"
      ],
      "outputs": [
        {
          "output_type": "execute_result",
          "data": {
            "text/plain": [
              "ColumnTransformer(n_jobs=None, remainder='passthrough', sparse_threshold=0.3,\n",
              "                  transformer_weights=None,\n",
              "                  transformers=[('encoder',\n",
              "                                 OneHotEncoder(categories='auto', drop=None,\n",
              "                                               dtype=<class 'numpy.float64'>,\n",
              "                                               handle_unknown='ignore',\n",
              "                                               sparse=True),\n",
              "                                 ['author', 'edition', 'category'])],\n",
              "                  verbose=False)"
            ]
          },
          "metadata": {},
          "execution_count": 15
        }
      ],
      "metadata": {
        "colab": {
          "base_uri": "https://localhost:8080/"
        },
        "id": "transsexual-strand",
        "outputId": "ec32df86-9bb0-46fc-c5e8-3764dd4f5116"
      }
    },
    {
      "cell_type": "code",
      "execution_count": 16,
      "source": [
        "rfr = RandomForestRegressor(random_state = 101, n_estimators = 50)\n",
        "pipe = Pipeline([('preprocessor', preprocessor),('model', rfr)])\n",
        "pipe.fit(X_train, y_train)"
      ],
      "outputs": [
        {
          "output_type": "execute_result",
          "data": {
            "text/plain": [
              "Pipeline(memory=None,\n",
              "         steps=[('preprocessor',\n",
              "                 ColumnTransformer(n_jobs=None, remainder='passthrough',\n",
              "                                   sparse_threshold=0.3,\n",
              "                                   transformer_weights=None,\n",
              "                                   transformers=[('encoder',\n",
              "                                                  OneHotEncoder(categories='auto',\n",
              "                                                                drop=None,\n",
              "                                                                dtype=<class 'numpy.float64'>,\n",
              "                                                                handle_unknown='ignore',\n",
              "                                                                sparse=True),\n",
              "                                                  ['author', 'edition',\n",
              "                                                   'category'])],\n",
              "                                   verbose=False)),\n",
              "                ('model',\n",
              "                 RandomForestRegressor(bootstrap=True, ccp_alpha=0.0,\n",
              "                                       criterion='mse', max_depth=None,\n",
              "                                       max_features='auto', max_leaf_nodes=None,\n",
              "                                       max_samples=None,\n",
              "                                       min_impurity_decrease=0.0,\n",
              "                                       min_impurity_split=None,\n",
              "                                       min_samples_leaf=1, min_samples_split=2,\n",
              "                                       min_weight_fraction_leaf=0.0,\n",
              "                                       n_estimators=50, n_jobs=None,\n",
              "                                       oob_score=False, random_state=101,\n",
              "                                       verbose=0, warm_start=False))],\n",
              "         verbose=False)"
            ]
          },
          "metadata": {},
          "execution_count": 16
        }
      ],
      "metadata": {
        "colab": {
          "base_uri": "https://localhost:8080/"
        },
        "id": "sought-plaintiff",
        "outputId": "52f741d8-d2ae-4a41-d75f-ce5678433b21"
      }
    },
    {
      "cell_type": "code",
      "execution_count": 17,
      "source": [
        "# Predict the value of the book on the test subset\n",
        "y_pred = pipe.predict(X_test)"
      ],
      "outputs": [],
      "metadata": {
        "id": "funny-injury"
      }
    },
    {
      "cell_type": "code",
      "execution_count": 20,
      "source": [
        "print('RMSLE :',(np.sqrt(mean_squared_log_error( abs(y_test),abs(y_pred)))))"
      ],
      "outputs": [
        {
          "output_type": "stream",
          "name": "stdout",
          "text": [
            "RMSLE : 0.3180289084857889\n"
          ]
        }
      ],
      "metadata": {
        "colab": {
          "base_uri": "https://localhost:8080/"
        },
        "id": "baking-customer",
        "outputId": "93fe24ca-2338-48ed-a88e-e2685a7b63dd"
      }
    },
    {
      "cell_type": "markdown",
      "source": [
        "### Saving the model"
      ],
      "metadata": {
        "id": "caroline-introduction"
      }
    },
    {
      "cell_type": "code",
      "execution_count": 21,
      "source": [
        "import pickle"
      ],
      "outputs": [],
      "metadata": {
        "id": "scientific-gallery"
      }
    },
    {
      "cell_type": "code",
      "execution_count": 22,
      "source": [
        "with open(\"pipe.pkl\", \"wb\") as f:\n",
        "  pickle.dump(pipe, f)"
      ],
      "outputs": [],
      "metadata": {
        "id": "graduate-proportion"
      }
    },
    {
      "cell_type": "code",
      "execution_count": null,
      "source": [],
      "outputs": [],
      "metadata": {
        "id": "alpine-bangladesh"
      }
    }
  ]
}